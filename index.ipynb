{
 "cells": [
  {
   "cell_type": "markdown",
   "metadata": {},
   "source": [
    "# Simulations with Conditional and Total Probability - Lab\n",
    "\n",
    "\n",
    "## Introduction\n",
    "In this lab, we shall run simulations for simple total probability problems. We shall solve these problems by hand and also perform random sampling from a defined probability distribution repeatedly to see if our calculated results match the results of random simulations. \n",
    "\n",
    "## Objectives\n",
    "You will be able to:\n",
    "* Use knowledge of conditional probabilities, total probabilities, and the product rule to run random simulations using numpy\n",
    "\n",
    "## Exercise 1\n",
    "### Part 1\n",
    "\n",
    "Suppose you have two bags of marbles. The first bag contains 6 white marbles and 4 black marbles. The second bag contains 3 white marbles and 7 black marbles. Now suppose you put the two bags in a box. Now if you close your eyes, grab a bag from the box, and then grab a marble from the bag, **what is the probability that it is black**? "
   ]
  },
  {
   "cell_type": "code",
   "execution_count": 2,
   "metadata": {},
   "outputs": [
    {
     "name": "stdout",
     "output_type": "stream",
     "text": [
      "Probability of Black Marble: 0.5500\n"
     ]
    }
   ],
   "source": [
    "# Your answer here\n",
    "# Defining Probabilites\n",
    "prob_bag = 1/2\n",
    "# Bag 1\n",
    "prob_white1 = 0.6\n",
    "prob_black1 = 0.4\n",
    "# Bag 2\n",
    "prob_white2 = 0.3\n",
    "prob_black2 = 0.7\n",
    "\n",
    "# Computing Probabilities\n",
    "prob_black = (prob_bag * prob_black1) + (prob_bag * prob_black2)\n",
    "print(f\"Probability of Black Marble: {prob_black:.4f}\")"
   ]
  },
  {
   "cell_type": "markdown",
   "metadata": {},
   "source": [
    "### Part 2\n",
    "Run a simple simulation to estimate the probability of drawing a marble of a particular color. Run the code and verify that it agrees with your computation done earlier.\n",
    "\n",
    "#### Perform following tasks:\n",
    "\n",
    "* Create dictionaries for bag1 and bag2 holding marble color and probability values:\n",
    "\n",
    "    * **bag1 = {'marbles' : np.array([\"color1\", \"color2\"]), 'probs' : np.array([P(color1), P(color2)])}**\n",
    "    \n",
    "* Create a dictionary for the box holding the bags and their probability values: \n",
    "\n",
    "    * **box  = {'bags' : np.array([bag1, bag2]), 'probs' : np.array([P(bag1),P(bag2)])}**\n",
    "    \n",
    "* Show the content of your dictionaries"
   ]
  },
  {
   "cell_type": "code",
   "execution_count": 3,
   "metadata": {},
   "outputs": [
    {
     "data": {
      "text/plain": [
       "({'marbles': array(['white', 'black'], dtype='<U5'),\n",
       "  'probs': array([0.6, 0.4])},\n",
       " {'marbles': array(['white', 'black'], dtype='<U5'),\n",
       "  'probs': array([0.3, 0.7])},\n",
       " {'bags': array([{'marbles': array(['white', 'black'], dtype='<U5'), 'probs': array([0.6, 0.4])},\n",
       "         {'marbles': array(['white', 'black'], dtype='<U5'), 'probs': array([0.3, 0.7])}],\n",
       "        dtype=object),\n",
       "  'probs': array([0.5, 0.5])})"
      ]
     },
     "execution_count": 3,
     "metadata": {},
     "output_type": "execute_result"
    }
   ],
   "source": [
    "import numpy as np\n",
    "bag1 = {'marbles': np.array([\"white\", \"black\"]), 'probs': np.array([prob_white1, prob_black1])}\n",
    "bag2 = {'marbles': np.array([\"white\", \"black\"]), 'probs': np.array([prob_white2, prob_black2])}\n",
    "box  = {'bags': np.array([bag1, bag2]), 'probs': np.array([prob_bag, prob_bag])}\n",
    "\n",
    "bag1, bag2, box\n",
    "\n",
    "# ({'marbles': array(['black', 'white'], dtype='<U5'),\n",
    "#   'probs': array([0.4, 0.6])},\n",
    "\n",
    "#  {'marbles': array(['black', 'white'], dtype='<U5'),\n",
    "#   'probs': array([0.7, 0.3])},\n",
    "\n",
    "#  {'bags': array([{'marbles': array(['black', 'white'], dtype='<U5'), 'probs': array([0.4, 0.6])},\n",
    "#          {'marbles': array(['black', 'white'], dtype='<U5'), 'probs': array([0.7, 0.3])}],\n",
    "#         dtype=object), 'probs': array([0.5, 0.5])})"
   ]
  },
  {
   "cell_type": "markdown",
   "metadata": {},
   "source": [
    "Create a function `sample_marble(box)` that randomly chooses a bag from the box and then randomly chooses a marble from the bag "
   ]
  },
  {
   "cell_type": "code",
   "execution_count": 5,
   "metadata": {},
   "outputs": [],
   "source": [
    "def sample_marble(box):\n",
    "    # randomly choose a bag \n",
    "    bag_index = np.random.choice([0, 1], p=box['probs'])\n",
    "    chosen_bag = box['bags'][bag_index]\n",
    "    # randomly choose a marble\n",
    "    marble_index = np.random.choice([0, 1], p=chosen_bag['probs'])\n",
    "    marble_color = chosen_bag['marbles'][marble_index]\n",
    "    \n",
    "    return bag_index, marble_color\n",
    "\n",
    "#sample_marble(box)\n",
    "# 'black' OR 'white'"
   ]
  },
  {
   "cell_type": "markdown",
   "metadata": {},
   "source": [
    "Create another function `probability_of_colors(color, box, num_samples)` that gets a  given number of samples from `sample_marbles()` and computes the fraction of marbles of a desired color"
   ]
  },
  {
   "cell_type": "code",
   "execution_count": 8,
   "metadata": {},
   "outputs": [],
   "source": [
    "def probability_of_color(color, box, num_samples=1000):\n",
    "    # get a bunch of marbles \n",
    "    # compute fraction of marbles of desired color \n",
    "    count = 0\n",
    "    for _ in range(num_samples):\n",
    "        # Get a sample marble\n",
    "        bag_index, marble_color = sample_marble(box)\n",
    "        \n",
    "        # Check if the marble matches the desired color\n",
    "        if marble_color == color:\n",
    "            count += 1\n",
    "    \n",
    "    # Calculate the fraction/probability\n",
    "    probability = count / num_samples\n",
    "    return probability"
   ]
  },
  {
   "cell_type": "markdown",
   "metadata": {},
   "source": [
    "Now let's run our function in line with our original problem, i.e. the probability of seeing a black marble by sampling form the box 100000 times. "
   ]
  },
  {
   "cell_type": "code",
   "execution_count": 9,
   "metadata": {},
   "outputs": [
    {
     "data": {
      "text/plain": [
       "0.54924"
      ]
     },
     "execution_count": 9,
     "metadata": {},
     "output_type": "execute_result"
    }
   ],
   "source": [
    "# probability_of_color(\"black\", box, num_samples=100000)\n",
    "probability_of_color(\"black\", box, num_samples=100000)\n",
    "\n",
    "# your answer should be very close to 0.55"
   ]
  },
  {
   "cell_type": "markdown",
   "metadata": {},
   "source": [
    "## Exercise 2\n",
    "\n",
    "\n",
    "Suppose now we add a third color of marble to the mix.  Bag 1 now contains 6 white marbles, 4 black marbles, and 5 gray marbles. Bag 2 now contains 3 white marbles, 7 black marbles, and 5 gray marbles.  \n",
    "\n",
    "**The probability of grabbing the first bag from the box is now TWICE the probability of grabbing the second bag.** \n",
    "\n",
    "What is the probability of drawing a gray marble from the bag according to law of total probabilities?  "
   ]
  },
  {
   "cell_type": "markdown",
   "metadata": {},
   "source": [
    "#### Copy and paste the code from the exercise above and modify it to estimate the probability that you just computed and check your work."
   ]
  },
  {
   "cell_type": "code",
   "execution_count": 13,
   "metadata": {},
   "outputs": [
    {
     "data": {
      "text/plain": [
       "({'marbles': array(['white', 'black', 'gray'], dtype='<U5'),\n",
       "  'probs': array([0.4       , 0.26666667, 0.33333333])},\n",
       " {'marbles': array(['white', 'black', 'gray'], dtype='<U5'),\n",
       "  'probs': array([0.2       , 0.46666667, 0.33333333])},\n",
       " {'bags': array([{'marbles': array(['white', 'black', 'gray'], dtype='<U5'), 'probs': array([0.4       , 0.26666667, 0.33333333])},\n",
       "         {'marbles': array(['white', 'black', 'gray'], dtype='<U5'), 'probs': array([0.2       , 0.46666667, 0.33333333])}],\n",
       "        dtype=object),\n",
       "  'probs': array([0.66666667, 0.33333333])})"
      ]
     },
     "execution_count": 13,
     "metadata": {},
     "output_type": "execute_result"
    }
   ],
   "source": [
    "# Change above code here \n",
    "prob_bag1 = 2/3\n",
    "prob_bag2 = 1/3\n",
    "prob_white1 = 6/15\n",
    "prob_black1 = 4/15\n",
    "prob_gray1 = 5/15\n",
    "prob_white2 = 3/15\n",
    "prob_black2 = 7/15\n",
    "prob_gray2 = 5/15\n",
    "bag1 = {'marbles': np.array([\"white\", \"black\", \"gray\"]), 'probs': np.array([prob_white1, prob_black1, prob_gray1])}\n",
    "bag2 = {'marbles': np.array([\"white\", \"black\", \"gray\"]), 'probs': np.array([prob_white2, prob_black2, prob_gray2])}\n",
    "box2  = {'bags': np.array([bag1, bag2]), 'probs': np.array([prob_bag1, prob_bag2])}\n",
    "\n",
    "bag1, bag2, box2"
   ]
  },
  {
   "cell_type": "code",
   "execution_count": 15,
   "metadata": {},
   "outputs": [],
   "source": [
    "def sample_marble2(box):\n",
    "    \"\"\"\n",
    "    Randomly choose a bag from the box and then randomly choose a marble from the bag.\n",
    "    \n",
    "    Parameters:\n",
    "    box (dict): Dictionary containing bags and their selection probabilities\n",
    "    \n",
    "    Returns:\n",
    "    tuple: (bag_index, marble_color) where bag_index is 0 or 1, and marble_color is \"white\", \"black\", or \"gray\"\n",
    "    \"\"\"\n",
    "    # First, choose a bag from the box\n",
    "    bag_index = np.random.choice([0, 1], p=box['probs'])\n",
    "    chosen_bag = box['bags'][bag_index]\n",
    "     # Then, choose a marble from the selected bag\n",
    "    marble_index = np.random.choice([0, 1, 2], p=chosen_bag['probs'])\n",
    "    marble_color = chosen_bag['marbles'][marble_index]\n",
    "    \n",
    "    return bag_index, marble_color"
   ]
  },
  {
   "cell_type": "code",
   "execution_count": 16,
   "metadata": {},
   "outputs": [],
   "source": [
    "def probability_of_colors2(color, box, num_samples):\n",
    "    \"\"\"\n",
    "    Estimate the probability of drawing a marble of a specific color from the box.\n",
    "    \n",
    "    Parameters:\n",
    "    color (str): The desired marble color (\"white\", \"black\", or \"gray\")\n",
    "    box (dict): Dictionary containing bags and their selection probabilities\n",
    "    num_samples (int): Number of samples to draw for the estimation\n",
    "    \n",
    "    Returns:\n",
    "    float: Estimated probability of drawing the specified color\n",
    "    \"\"\"\n",
    "    count = 0\n",
    "    \n",
    "    for _ in range(num_samples):\n",
    "        # Get a sample marble\n",
    "        bag_index, marble_color = sample_marble2(box)\n",
    "        \n",
    "        # Check if the marble matches the desired color\n",
    "        if marble_color == color:\n",
    "            count += 1\n",
    "    \n",
    "    # Calculate the fraction/probability\n",
    "    probability = count / num_samples\n",
    "    return probability"
   ]
  },
  {
   "cell_type": "code",
   "execution_count": 17,
   "metadata": {},
   "outputs": [
    {
     "data": {
      "text/plain": [
       "0.33451"
      ]
     },
     "execution_count": 17,
     "metadata": {},
     "output_type": "execute_result"
    }
   ],
   "source": [
    "# probability_of_color(\"gray\", box, num_samples=100000)\n",
    "probability_of_colors2(\"gray\", box2, num_samples=100000)\n",
    "\n",
    "\n",
    "# Very close to 0.33"
   ]
  },
  {
   "cell_type": "markdown",
   "metadata": {},
   "source": [
    "## Summary \n",
    "\n",
    "In this lab, you looked at some more examples of simple problems using the law of total probability. You also ran some simulations to solve these problems using continuous random sampling. You learned that you get a result very close to the mathematical solution when using random sampling. This difference is due to randomness, and as your sample size grows you'll see that the difference becomes very small! For more complex problems with larger datasets, having an understanding of the underlying probabilities can help you solve a lot of optimization problems as you'll learn later."
   ]
  }
 ],
 "metadata": {
  "kernelspec": {
   "display_name": "Python 3 (ipykernel)",
   "language": "python",
   "name": "python3"
  },
  "language_info": {
   "codemirror_mode": {
    "name": "ipython",
    "version": 3
   },
   "file_extension": ".py",
   "mimetype": "text/x-python",
   "name": "python",
   "nbconvert_exporter": "python",
   "pygments_lexer": "ipython3",
   "version": "3.13.5"
  },
  "toc": {
   "base_numbering": 1,
   "nav_menu": {},
   "number_sections": true,
   "sideBar": true,
   "skip_h1_title": false,
   "title_cell": "Table of Contents",
   "title_sidebar": "Contents",
   "toc_cell": false,
   "toc_position": {},
   "toc_section_display": true,
   "toc_window_display": false
  }
 },
 "nbformat": 4,
 "nbformat_minor": 4
}
